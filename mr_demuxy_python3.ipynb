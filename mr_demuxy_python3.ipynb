{
 "cells": [
  {
   "cell_type": "markdown",
   "id": "1c78c9ab-47f2-4b74-bbe5-e6a84cad6fe2",
   "metadata": {},
   "source": [
    "# Update Mr Demuxy for python 3+"
   ]
  },
  {
   "cell_type": "markdown",
   "id": "67ebd999-4357-4e2d-9afe-f97f1a6195e7",
   "metadata": {},
   "source": [
    "## Step 1: Create a Conda Environment"
   ]
  },
  {
   "cell_type": "code",
   "execution_count": null,
   "id": "11d30583-e5f4-46aa-832f-c5d50240dad2",
   "metadata": {},
   "outputs": [],
   "source": [
    "!conda create --name demuxy_env python=3.7 -y"
   ]
  },
  {
   "cell_type": "markdown",
   "id": "88e8922c-add2-479e-b2b4-4cdd3039e565",
   "metadata": {},
   "source": [
    "## Step 2: Activate the Conda Environment (Note: Activating in a notebook requires subprocess workarounds)"
   ]
  },
  {
   "cell_type": "code",
   "execution_count": null,
   "id": "db93bcf4-914a-4149-8f62-05dcc0d45c2c",
   "metadata": {},
   "outputs": [],
   "source": [
    "import os\n",
    "os.system(\"source activate demuxy_env\")"
   ]
  },
  {
   "cell_type": "markdown",
   "id": "a9d2f847-0ddf-4bee-b870-be6383520565",
   "metadata": {},
   "source": [
    "## Step 3: Install Mr. Demuxy"
   ]
  },
  {
   "cell_type": "code",
   "execution_count": null,
   "id": "65ae8d43-9057-4701-b72d-b0f51be2dd0e",
   "metadata": {},
   "outputs": [],
   "source": [
    "!pip install Mr_Demuxy"
   ]
  },
  {
   "cell_type": "markdown",
   "id": "fccecf37-2dac-4c1d-9b32-0f0e20b5a2f9",
   "metadata": {},
   "source": [
    "## Step 4: Find Mr. Demuxy Installation Path"
   ]
  },
  {
   "cell_type": "code",
   "execution_count": null,
   "id": "20b12415-2601-40a4-9fa9-c8fc9a3d3b64",
   "metadata": {},
   "outputs": [],
   "source": [
    "!pip show Mr_Demuxy"
   ]
  },
  {
   "cell_type": "markdown",
   "id": "9db4927f-599a-4ab0-80fb-94c56f41cc9c",
   "metadata": {},
   "source": [
    "## Step 5: Add Mr. Demuxy to the PATH (Modify the path accordingly)"
   ]
  },
  {
   "cell_type": "code",
   "execution_count": null,
   "id": "6d8faacb-ecfa-4a31-a5c9-02e479bc6c5f",
   "metadata": {},
   "outputs": [],
   "source": [
    "mr_demuxy_path = \"/your/path/to/mr_demuxy/\"\n",
    "os.environ[\"PATH\"] = f\"{mr_demuxy_path}:{os.environ['PATH']}\"\n",
    "!echo $PATH"
   ]
  },
  {
   "cell_type": "markdown",
   "id": "d976e775-6070-471d-aaab-1fb52ef7266c",
   "metadata": {},
   "source": [
    "## Step 6: Update scripts to run with Python 3"
   ]
  },
  {
   "cell_type": "code",
   "execution_count": null,
   "id": "74f4d292-8db5-4156-99b1-b79dedc88350",
   "metadata": {},
   "outputs": [],
   "source": [
    "import os\n",
    "\n",
    "script_path = '/your/path/to/scripts/'\n",
    "\n",
    "scripts = {\n",
    "    \"pe_demuxer\": script_path + 'pe_demuxer_dist.py',\n",
    "    \"util_functions\": script_path + 'util_functions_dist.py',\n",
    "    \"biopython\": script_path + 'mr_demuxy/biopython.py'\n",
    "}\n",
    "\n",
    "def replace_text(file_path, old, new):\n",
    "    try:\n",
    "        with open(file_path, 'r+') as file:\n",
    "            content = file.read()\n",
    "            file.seek(0)\n",
    "            file.write(content.replace(old, new))\n",
    "            file.truncate()\n",
    "        print(f\"Updated '{file_path}' successfully.\")\n",
    "    except FileNotFoundError:\n",
    "        print(f\"Script not found: '{file_path}'\")\n",
    "    except Exception as e:\n",
    "        print(f\"An error occurred '{file_path}': {e}\")\n",
    "\n",
    "for script in [scripts[\"pe_demuxer\"], scripts[\"util_functions\"]]:\n",
    "    replace_text(script, \"rU\", \"r\")\n",
    "\n",
    "replace_text(scripts[\"biopython\"], \"raise StopIteration\", \"return\")"
   ]
  },
  {
   "cell_type": "markdown",
   "id": "6ac0f6e3-87e4-4faf-974f-c2d65ee10ab9",
   "metadata": {},
   "source": [
    "## Step 7: Run Mr. Demuxy (Modify paths as needed)"
   ]
  },
  {
   "cell_type": "code",
   "execution_count": null,
   "id": "ec955e3d-e19a-47b9-9b63-4dd4514d26da",
   "metadata": {},
   "outputs": [],
   "source": [
    "data_path = \"/your/path/to/data\"\n",
    "os.chdir(data_path)\n",
    "!pe_demuxer.py -r1 R1.fastq -r2 R2.fastq -r1_bc R1_barcodes.txt -r2_bc R2_barcodes.txt -o demultiplexed"
   ]
  },
  {
   "cell_type": "markdown",
   "id": "72041155-2022-40f0-9acc-4a1efb1cd718",
   "metadata": {},
   "source": [
    "# (Optional) Rename demultiplexed samples"
   ]
  },
  {
   "cell_type": "markdown",
   "id": "2f4cf82d-5942-4d8b-a510-e23609827a12",
   "metadata": {},
   "source": [
    "## Step 8: Rename samples to match metadata"
   ]
  },
  {
   "cell_type": "code",
   "execution_count": null,
   "id": "56da42ee-858c-436d-b048-8da0a8c95e94",
   "metadata": {},
   "outputs": [],
   "source": [
    "!head -n 10 /your/path/to/data/metadata.csv # identify column headers for sample name and well (location in the 96-well plate)"
   ]
  },
  {
   "cell_type": "markdown",
   "id": "63f55993-de93-43a5-a511-6927cd919d0c",
   "metadata": {},
   "source": [
    "## Step 9: Run renaming script. "
   ]
  },
  {
   "cell_type": "code",
   "execution_count": null,
   "id": "b0fdb576-d81e-40e5-9c80-389938a648f8",
   "metadata": {},
   "outputs": [],
   "source": [
    "import os\n",
    "import pandas as pd\n",
    "\n",
    "demultiplexed_dir = \"/your/path/to/data/demultiplexed\"\n",
    "metadata_file = \"/your/path/to/data/metadata.csv\"\n",
    "\n",
    "well_column_name = \"WellName\" \n",
    "sample_column_name = \"SampleID\"\n",
    "\n",
    "metadata = pd.read_csv(metadata_file)\n",
    "\n",
    "if well_column_name not in metadata.columns or sample_column_name not in metadata.columns:\n",
    "    raise ValueError(f\"Metadata must contain '{well_column_name}' and '{sample_column_name}' columns.\")\n",
    "\n",
    "well_to_sample = dict(zip(metadata[well_column_name], metadata[sample_column_name]))\n",
    "\n",
    "for root, _, files in os.walk(demultiplexed_dir):\n",
    "    for filename in files:\n",
    "        if filename.endswith(\".fastq\"):\n",
    "            well_name = filename.split(\"_\")[0]\n",
    "\n",
    "            if well_name in well_to_sample:\n",
    "                sample_id = well_to_sample[well_name]\n",
    "                new_filename = filename.replace(well_name, sample_id)\n",
    "                os.rename(os.path.join(root, filename), os.path.join(root, new_filename))\n",
    "                print(f\"Renamed: {filename} -> {new_filename}\")\n",
    "            else:\n",
    "                print(f\"Warning: Well name '{well_name}' not found in metadata. Skipping '{filename}'.\")"
   ]
  }
 ],
 "metadata": {
  "kernelspec": {
   "display_name": "Python 3 (ipykernel)",
   "language": "python",
   "name": "python3"
  },
  "language_info": {
   "codemirror_mode": {
    "name": "ipython",
    "version": 3
   },
   "file_extension": ".py",
   "mimetype": "text/x-python",
   "name": "python",
   "nbconvert_exporter": "python",
   "pygments_lexer": "ipython3",
   "version": "3.9.19"
  }
 },
 "nbformat": 4,
 "nbformat_minor": 5
}
